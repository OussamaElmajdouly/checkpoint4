{
 "cells": [
  {
   "cell_type": "code",
   "execution_count": 5,
   "id": "b5796031",
   "metadata": {},
   "outputs": [
    {
     "data": {
      "text/plain": [
       "26"
      ]
     },
     "execution_count": 5,
     "metadata": {},
     "output_type": "execute_result"
    }
   ],
   "source": [
    "def maximal(a,b,c):\n",
    "    if a >= b and a >= c :\n",
    "        return a\n",
    "    elif b >= a and b >= c :\n",
    "        return b\n",
    "    else:\n",
    "        return c\n",
    "maximal(10,26,23)"
   ]
  },
  {
   "cell_type": "code",
   "execution_count": 8,
   "id": "d0eeb845",
   "metadata": {},
   "outputs": [
    {
     "data": {
      "text/plain": [
       "(24, 28)"
      ]
     },
     "execution_count": 8,
     "metadata": {},
     "output_type": "execute_result"
    }
   ],
   "source": [
    "def sousaddi(x,y):\n",
    "    return x-y,x+y\n",
    "sousaddi(26,2)"
   ]
  },
  {
   "cell_type": "code",
   "execution_count": 13,
   "id": "570ad1b5",
   "metadata": {},
   "outputs": [
    {
     "data": {
      "text/plain": [
       "15"
      ]
     },
     "execution_count": 13,
     "metadata": {},
     "output_type": "execute_result"
    }
   ],
   "source": [
    "def addition(l):\n",
    "    s=0\n",
    "    for i in range(len(l)):\n",
    "        s=s+l[i]\n",
    "    return s\n",
    "addition([1,2,3,4,5])\n",
    "    "
   ]
  },
  {
   "cell_type": "code",
   "execution_count": 14,
   "id": "c2aa9d8d",
   "metadata": {},
   "outputs": [
    {
     "data": {
      "text/plain": [
       "120"
      ]
     },
     "execution_count": 14,
     "metadata": {},
     "output_type": "execute_result"
    }
   ],
   "source": [
    "def multiplication(l):\n",
    "    m=1\n",
    "    for i in range(len(l)):\n",
    "        m=m*l[i]\n",
    "    return m\n",
    "multiplication([1,2,3,4,5])"
   ]
  },
  {
   "cell_type": "code",
   "execution_count": 15,
   "id": "1a21fa78",
   "metadata": {},
   "outputs": [
    {
     "data": {
      "text/plain": [
       "(9, 8)"
      ]
     },
     "execution_count": 15,
     "metadata": {},
     "output_type": "execute_result"
    }
   ],
   "source": [
    "\n",
    "def position(l):\n",
    "  P=[]\n",
    "  I=[]\n",
    "  for i in range(len(l)):\n",
    "    if i%2==0:\n",
    "      P.append(l[i])\n",
    "    else:\n",
    "      I.append(l[i])\n",
    "  return addition(P),multiplication(I)\n",
    "\n",
    "position([1,2,3,4,5])"
   ]
  },
  {
   "cell_type": "code",
   "execution_count": 2,
   "id": "e209d455",
   "metadata": {},
   "outputs": [
    {
     "name": "stdout",
     "output_type": "stream",
     "text": [
      "veuillez sasirgreen rouge\n"
     ]
    },
    {
     "data": {
      "text/plain": [
       "'green rouge'"
      ]
     },
     "execution_count": 2,
     "metadata": {},
     "output_type": "execute_result"
    }
   ],
   "source": [
    "def ha():\n",
    "    x=input(\"veuillez sasir\").split('-')\n",
    "    x.sort()\n",
    "    return '-'.join(x)\n",
    "ha()\n",
    "    "
   ]
  },
  {
   "cell_type": "code",
   "execution_count": 7,
   "id": "1b9cb2f4",
   "metadata": {},
   "outputs": [
    {
     "name": "stdout",
     "output_type": "stream",
     "text": [
      "saisie 3 nombre100,150,180\n"
     ]
    },
    {
     "data": {
      "text/plain": [
       "[18, 22, 24]"
      ]
     },
     "execution_count": 7,
     "metadata": {},
     "output_type": "execute_result"
    }
   ],
   "source": [
    "import math\n",
    "def test():\n",
    "    a=input(\"saisie 3 nombre\").split(',')\n",
    "    b=[]\n",
    "    for i in a :\n",
    "        b.append(round(math.sqrt(2*50*int(i)/30)))\n",
    "    return b\n",
    "\n",
    "test()"
   ]
  },
  {
   "cell_type": "code",
   "execution_count": null,
   "id": "8ef43762",
   "metadata": {},
   "outputs": [],
   "source": []
  }
 ],
 "metadata": {
  "kernelspec": {
   "display_name": "Python 3 (ipykernel)",
   "language": "python",
   "name": "python3"
  },
  "language_info": {
   "codemirror_mode": {
    "name": "ipython",
    "version": 3
   },
   "file_extension": ".py",
   "mimetype": "text/x-python",
   "name": "python",
   "nbconvert_exporter": "python",
   "pygments_lexer": "ipython3",
   "version": "3.9.12"
  }
 },
 "nbformat": 4,
 "nbformat_minor": 5
}
